{
 "cells": [
  {
   "cell_type": "code",
   "execution_count": 1,
   "id": "f5b63b83",
   "metadata": {},
   "outputs": [],
   "source": [
    "import tensorflow as tf\n",
    "from tensorflow.keras.preprocessing.image import ImageDataGenerator"
   ]
  },
  {
   "cell_type": "code",
   "execution_count": 2,
   "id": "d60004c3",
   "metadata": {},
   "outputs": [
    {
     "name": "stdout",
     "output_type": "stream",
     "text": [
      "WARNING:tensorflow:From <ipython-input-2-17bb7203622b>:1: is_gpu_available (from tensorflow.python.framework.test_util) is deprecated and will be removed in a future version.\n",
      "Instructions for updating:\n",
      "Use `tf.config.list_physical_devices('GPU')` instead.\n"
     ]
    },
    {
     "data": {
      "text/plain": [
       "False"
      ]
     },
     "execution_count": 2,
     "metadata": {},
     "output_type": "execute_result"
    }
   ],
   "source": [
    "tf.test.is_gpu_available()"
   ]
  },
  {
   "cell_type": "code",
   "execution_count": 3,
   "id": "4c8ff653",
   "metadata": {},
   "outputs": [],
   "source": [
    "# Data Augumentation\n",
    "\n",
    "batch_size=16\n",
    "\n",
    "training_datagenerator = ImageDataGenerator(rescale=1./255, horizontal_flip=True, \n",
    "        vertical_flip = True, shear_range=0.2, zoom_range=0.2, \n",
    "        width_shift_range=0.2, height_shift_range=0.2, validation_split=0.1)"
   ]
  },
  {
   "cell_type": "code",
   "execution_count": 4,
   "id": "1b162805",
   "metadata": {},
   "outputs": [
    {
     "name": "stdout",
     "output_type": "stream",
     "text": [
      "Found 12360 images belonging to 2 classes.\n",
      "Found 1373 images belonging to 2 classes.\n"
     ]
    }
   ],
   "source": [
    "#dividng data into training and validation\n",
    "\n",
    "train = training_datagenerator.flow_from_directory('Training_Data', target_size=(224,224), color_mode='rgb',\n",
    "                            class_mode= 'binary', batch_size=batch_size, subset='training')\n",
    "\n",
    "validation = training_datagenerator.flow_from_directory('Training_Data', target_size=(224,224), color_mode='rgb',\n",
    "                            class_mode= 'binary', batch_size=batch_size, subset='validation')"
   ]
  },
  {
   "cell_type": "code",
   "execution_count": 5,
   "id": "418f4604",
   "metadata": {},
   "outputs": [],
   "source": [
    "#CNN Architecture\n",
    "\n",
    "#Initializing CNN\n",
    "cnn = tf.keras.models.Sequential()\n",
    "\n",
    "#Adding first layer\n",
    "cnn.add(tf.keras.layers.Conv2D(filters=32, kernel_size=3, padding='same', activation='relu', input_shape=[224,224,3]))\n",
    "cnn.add(tf.keras.layers.MaxPool2D(pool_size=2))\n",
    "\n",
    "#Adding second layer\n",
    "cnn.add(tf.keras.layers.Conv2D(filters=64, kernel_size=3, padding='same', activation='relu'))\n",
    "cnn.add(tf.keras.layers.MaxPool2D(pool_size=2))\n",
    "\n",
    "#Adding third layer\n",
    "cnn.add(tf.keras.layers.Conv2D(filters=256, kernel_size=3, padding='same', activation='relu'))\n",
    "cnn.add(tf.keras.layers.MaxPool2D(pool_size=2))\n",
    "\n",
    "#Flattening \n",
    "cnn.add(tf.keras.layers.Flatten())\n",
    "\n",
    "#Fully connected layer\n",
    "cnn.add(tf.keras.layers.Dense(units=128, activation='relu'))\n",
    "\n",
    "#Output layers\n",
    "cnn.add(tf.keras.layers.Dense(units=1, activation='sigmoid'))"
   ]
  },
  {
   "cell_type": "code",
   "execution_count": 6,
   "id": "5160a1d1",
   "metadata": {},
   "outputs": [
    {
     "name": "stdout",
     "output_type": "stream",
     "text": [
      "Model: \"sequential\"\n",
      "_________________________________________________________________\n",
      "Layer (type)                 Output Shape              Param #   \n",
      "=================================================================\n",
      "conv2d (Conv2D)              (None, 224, 224, 32)      896       \n",
      "_________________________________________________________________\n",
      "max_pooling2d (MaxPooling2D) (None, 112, 112, 32)      0         \n",
      "_________________________________________________________________\n",
      "conv2d_1 (Conv2D)            (None, 112, 112, 64)      18496     \n",
      "_________________________________________________________________\n",
      "max_pooling2d_1 (MaxPooling2 (None, 56, 56, 64)        0         \n",
      "_________________________________________________________________\n",
      "conv2d_2 (Conv2D)            (None, 56, 56, 256)       147712    \n",
      "_________________________________________________________________\n",
      "max_pooling2d_2 (MaxPooling2 (None, 28, 28, 256)       0         \n",
      "_________________________________________________________________\n",
      "flatten (Flatten)            (None, 200704)            0         \n",
      "_________________________________________________________________\n",
      "dense (Dense)                (None, 128)               25690240  \n",
      "_________________________________________________________________\n",
      "dense_1 (Dense)              (None, 1)                 129       \n",
      "=================================================================\n",
      "Total params: 25,857,473\n",
      "Trainable params: 25,857,473\n",
      "Non-trainable params: 0\n",
      "_________________________________________________________________\n"
     ]
    }
   ],
   "source": [
    "cnn.summary()"
   ]
  },
  {
   "cell_type": "code",
   "execution_count": 7,
   "id": "3badea82",
   "metadata": {},
   "outputs": [],
   "source": [
    "#compile and train\n",
    "\n",
    "checkpoint = tf.keras.callbacks.ModelCheckpoint('Fire_and_Smoke.h5',\n",
    "                                                monitor='val_loss', mode='min',\n",
    "                                               save_best_only=True)\n",
    "callbacks=checkpoint"
   ]
  },
  {
   "cell_type": "code",
   "execution_count": null,
   "id": "b258bf85",
   "metadata": {},
   "outputs": [
    {
     "name": "stdout",
     "output_type": "stream",
     "text": [
      "WARNING:tensorflow:From <ipython-input-8-9671c61463aa>:2: Model.fit_generator (from tensorflow.python.keras.engine.training) is deprecated and will be removed in a future version.\n",
      "Instructions for updating:\n",
      "Please use Model.fit, which supports generators.\n",
      " 58/772 [=>............................] - ETA: 21:47 - loss: 0.2389 - accuracy: 0.9569"
     ]
    }
   ],
   "source": [
    "cnn.compile(optimizer='Adam', loss='binary_crossentropy', metrics=['accuracy'])\n",
    "cnn.fit_generator(train, validation_data=validation, epochs=1,\n",
    "                 steps_per_epoch=train.samples//batch_size,\n",
    "                 validation_steps=validation.samples//batch_size,\n",
    "                 callbacks=callbacks)"
   ]
  },
  {
   "cell_type": "code",
   "execution_count": null,
   "id": "cbba9355",
   "metadata": {},
   "outputs": [],
   "source": [
    "#testing\n",
    "\n",
    "from tensorflow.keras.models import load_model\n",
    "cnn=load_model('Fire_and_Smoke.h5')"
   ]
  },
  {
   "cell_type": "code",
   "execution_count": null,
   "id": "56f6dad5",
   "metadata": {},
   "outputs": [],
   "source": [
    "cnn.summary()"
   ]
  },
  {
   "cell_type": "code",
   "execution_count": null,
   "id": "d9bba64a",
   "metadata": {},
   "outputs": [],
   "source": [
    "from tensorflow.keras.preprocessing import image\n",
    "import numpy as np\n",
    "import matplotlib.pyplot as plt\n",
    "import PIL\n",
    "import cv2"
   ]
  },
  {
   "cell_type": "code",
   "execution_count": null,
   "id": "7a18e3a7",
   "metadata": {},
   "outputs": [],
   "source": [
    "#cap = cv2.VideoCapture(0) \n",
    "\n",
    "#while cap.isOpened(): \n",
    " #   ret,frame = cap.read() \n",
    "  #  if ret == True:\n",
    "        frame = r 'Training_Data\\Fire\\14.jpg'\n",
    "        test_image=image.load_img(frame, target_size=(224,224))\n",
    "        test_image=image.img_to_array(test_image)\n",
    "        test_image=test_image/255\n",
    "        test_image=np.expand_dims(test_image, axis=0)\n",
    "        result = cnn.predict_classes(test_image)\n",
    "\n",
    "        Categories = ['Fire', 'Smoke']\n",
    "\n",
    "        image_show=PIL.Image.open(frame)\n",
    "        plt.imshow(image_show)\n",
    "\n",
    "        plt.title(Categories[int(result[0][0])])\n",
    "        plt.show()"
   ]
  },
  {
   "cell_type": "code",
   "execution_count": null,
   "id": "d592cd67",
   "metadata": {},
   "outputs": [],
   "source": []
  },
  {
   "cell_type": "code",
   "execution_count": null,
   "id": "cbf21728",
   "metadata": {},
   "outputs": [],
   "source": []
  },
  {
   "cell_type": "code",
   "execution_count": null,
   "id": "1c17a358",
   "metadata": {},
   "outputs": [],
   "source": []
  }
 ],
 "metadata": {
  "kernelspec": {
   "display_name": "Python 3",
   "language": "python",
   "name": "python3"
  },
  "language_info": {
   "codemirror_mode": {
    "name": "ipython",
    "version": 3
   },
   "file_extension": ".py",
   "mimetype": "text/x-python",
   "name": "python",
   "nbconvert_exporter": "python",
   "pygments_lexer": "ipython3",
   "version": "3.8.8"
  }
 },
 "nbformat": 4,
 "nbformat_minor": 5
}
